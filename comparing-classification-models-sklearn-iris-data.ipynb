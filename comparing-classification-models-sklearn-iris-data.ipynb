{
 "cells": [
  {
   "cell_type": "markdown",
   "metadata": {},
   "source": [
    "# Comparing Classification Models: sklearn Iris data"
   ]
  },
  {
   "cell_type": "markdown",
   "metadata": {},
   "source": [
    "# Disclaimers\n",
    "## Authorship \n",
    "\n",
    "This notebook has been prepared by **Hammad Zahid Ali** and modified to cope with the purpose of this class. Main modifications were inclusion of extra documentation of the functions and chunks of code, inclusions of references to 3rd part resources. If you are interested on the original file, please have a look at:\n",
    "https://www.kaggle.com/hammadzahidali/comparing-classification-models-sklearn-iris-data all credits should be given to [**Hammad Zahid Ali**](https://www.kaggle.com/hammadzahidali) for his great work. \n",
    "\n",
    "## Liability\n",
    "\n",
    "The material and information contained on this notebook is for general information and educational purposes only. You should not rely upon the material or information on the notebook as a basis for making any business, legal or any other decisions.\n",
    "\n",
    "I am not be liable for any false, inaccurate, inappropriate or incomplete information presented on the notebook. Any reliance you place on such material is therefore strictly at your own risk.\n",
    "\n",
    "## Datasets license\n",
    "\n",
    "The **Iris Species** used in this notebook was obtained at Kaggle and originally published by [UCI Machine Learning Repository](http://archive.ics.uci.edu/ml/datasets/Iris) no personal data that could be used to identify the subjects were included on the dataset.\n",
    "\n",
    "Sincerely,\n",
    "\n",
    "**Adriano Barbosa**"
   ]
  },
  {
   "cell_type": "markdown",
   "metadata": {
    "_uuid": "44063a84e057a1d2835f32e4c14e8b8fee63c8a8"
   },
   "source": [
    "**Steps in Applied Machine Learning:**\n",
    "- Load Library\n",
    "- Load Dataset to which Machine Learning Algorithm to be applied Either a) load from a CSV file or b) load from a Database\n",
    "- Summarisation of Data to understand dataset (Descriptive Statistics)\n",
    "- Visualisation of Data to understand dataset (Plots, Graphs etc.)\n",
    "- Data pre-processing & Data transformation (split into train-test datasets)\n",
    "- Application of a Machine Learning Algorithm to training dataset a) setup a ML algorithm and parameter settings b) cross validation setup with training dataset\n",
    "c) training & fitting Algorithm with training Dataset\n",
    "d) evaluation of trained Algorithm (or Model) and result\n",
    "e) saving the trained model for future prediction\n",
    "- Finalise the trained modela and make prediction"
   ]
  },
  {
   "cell_type": "code",
   "execution_count": 21,
   "metadata": {
    "scrolled": true
   },
   "outputs": [],
   "source": [
    "# Install the packages below to make sure you have all you need.\n",
    "\n",
    "#!pip install pandas\n",
    "#!pip install sklearn \n",
    "#!pip install matplotlib"
   ]
  },
  {
   "cell_type": "markdown",
   "metadata": {},
   "source": [
    "# 1) Load Libraries\n",
    "\n",
    "We will use the following libraries to conduct this practical\n",
    "### Pandas\n",
    "**pandas** is a Python package providing fast, flexible, and expressive data structures designed to make working with “relational” or “labeled” data both easy and intuitive. It aims to be the fundamental high-level building block for doing practical, real world data analysis in Python. Additionally, it has the broader goal of becoming the most powerful and flexible open source data analysis / manipulation tool available in any language. It is already well on its way toward this goal. [Learn more](https://pandas.pydata.org/pandas-docs/stable/)\n",
    "\n",
    "### Numpy\n",
    "**NumPy** is the fundamental package for scientific computing with Python. It contains among other things:\n",
    "\n",
    "  * a powerful N-dimensional array object\n",
    "  * sophisticated (broadcasting) functions\n",
    "  * tools for integrating C/C++ and Fortran code\n",
    "  * useful linear algebra, Fourier transform, and random number capabilities [Learn more](https://numpy.org/)\n",
    "  \n",
    "### Pickle\n",
    "The **pickle** module implements binary protocols for serializing and de-serializing a Python object structure. “Pickling” is the process whereby a Python object hierarchy is converted into a byte stream, and “unpickling” is the inverse operation, whereby a byte stream (from a binary file or bytes-like object) is converted back into an object hierarchy. Pickling (and unpickling) is alternatively known as “serialization”, “marshalling,” 1 or “flattening”; however, to avoid confusion, the terms used here are “pickling” and “unpickling”. [Learn more](https://docs.python.org/3/library/pickle.html)\n",
    "\n",
    "### Sklearn\n",
    "**Scikit-learn** is a Python module integrating a wide range of state-of-the-art machine learning algorithms for medium-scale supervised and unsupervised problems. This package focuses on bringing machine learning to non-specialists using a general-purpose high-level language. Emphasis is put on ease of use, performance, documentation, and API consistency. It has minimal dependencies and is distributed under the simplified BSD license, encouraging its use in both academic and commercial settings.  [Learn more](https://scikit-learn.org/stable/index.html)"
   ]
  },
  {
   "cell_type": "code",
   "execution_count": 8,
   "metadata": {
    "_cell_guid": "b1076dfc-b9ad-4769-8c92-a6c4dae69d19",
    "_kg_hide-input": false,
    "_kg_hide-output": true,
    "_uuid": "8f2839f25d086af736a60e9eeb907d3b93b6e0e5"
   },
   "outputs": [],
   "source": [
    "import pandas as pd\n",
    "import numpy as np\n",
    "import pickle as pk\n",
    "\n",
    "# for dataset spliting\n",
    "from sklearn.model_selection import train_test_split\n",
    "#\n",
    "from sklearn.model_selection import cross_val_score\n",
    "\n",
    "\n",
    "# visualization\n",
    "import matplotlib.pyplot as plt\n",
    "\n",
    "#\n",
    "from pandas.plotting import scatter_matrix\n",
    "\n",
    "# \n",
    "from sklearn.linear_model import LogisticRegression\n",
    "from sklearn.tree import DecisionTreeClassifier\n",
    "from sklearn.naive_bayes import GaussianNB\n",
    "from sklearn.discriminant_analysis import LinearDiscriminantAnalysis\n",
    "from sklearn.neighbors import KNeighborsClassifier\n",
    "from sklearn.svm import SVC\n",
    "\n",
    "\n",
    "# metrics\n",
    "from sklearn.metrics import accuracy_score\n",
    "from sklearn.metrics import classification_report\n",
    "from sklearn.metrics import confusion_matrix\n",
    "\n"
   ]
  },
  {
   "cell_type": "markdown",
   "metadata": {
    "_uuid": "594ce3c9366590612625ee3f104118bd18977da6"
   },
   "source": [
    "**IRIS data From UCI Machine Learning**\n",
    "The goal of this exercise is to correctly classify each flower given its attributes. IRIS is a small and well understood dataset for classification problem. Here the author is going to present an end to end predictive modelling machine learning recipe for this classification project using different types of Classifier available in scikit-learn package such as Logistic Regression, Linear Discriminant Analysis, K Nearest Neighbours, Decision Tree, Naïve Bayes and Support Vector Machine.\n",
    "\n"
   ]
  },
  {
   "cell_type": "code",
   "execution_count": 9,
   "metadata": {
    "_cell_guid": "79c7e3d0-c299-4dcb-8224-4455121ee9b0",
    "_uuid": "d629ff2d2480ee46fbb7e2d37f6b5fab8052498a"
   },
   "outputs": [
    {
     "data": {
      "text/html": [
       "<div>\n",
       "<style scoped>\n",
       "    .dataframe tbody tr th:only-of-type {\n",
       "        vertical-align: middle;\n",
       "    }\n",
       "\n",
       "    .dataframe tbody tr th {\n",
       "        vertical-align: top;\n",
       "    }\n",
       "\n",
       "    .dataframe thead th {\n",
       "        text-align: right;\n",
       "    }\n",
       "</style>\n",
       "<table border=\"1\" class=\"dataframe\">\n",
       "  <thead>\n",
       "    <tr style=\"text-align: right;\">\n",
       "      <th></th>\n",
       "      <th>Id</th>\n",
       "      <th>SepalLengthCm</th>\n",
       "      <th>SepalWidthCm</th>\n",
       "      <th>PetalLengthCm</th>\n",
       "      <th>PetalWidthCm</th>\n",
       "      <th>Species</th>\n",
       "    </tr>\n",
       "  </thead>\n",
       "  <tbody>\n",
       "    <tr>\n",
       "      <td>0</td>\n",
       "      <td>1</td>\n",
       "      <td>5.1</td>\n",
       "      <td>3.5</td>\n",
       "      <td>1.4</td>\n",
       "      <td>0.2</td>\n",
       "      <td>Iris-setosa</td>\n",
       "    </tr>\n",
       "    <tr>\n",
       "      <td>1</td>\n",
       "      <td>2</td>\n",
       "      <td>4.9</td>\n",
       "      <td>3.0</td>\n",
       "      <td>1.4</td>\n",
       "      <td>0.2</td>\n",
       "      <td>Iris-setosa</td>\n",
       "    </tr>\n",
       "  </tbody>\n",
       "</table>\n",
       "</div>"
      ],
      "text/plain": [
       "   Id  SepalLengthCm  SepalWidthCm  PetalLengthCm  PetalWidthCm      Species\n",
       "0   1            5.1           3.5            1.4           0.2  Iris-setosa\n",
       "1   2            4.9           3.0            1.4           0.2  Iris-setosa"
      ]
     },
     "execution_count": 9,
     "metadata": {},
     "output_type": "execute_result"
    }
   ],
   "source": [
    "# 2 LOAD DATA\n",
    "\n",
    "data = pd.read_csv('./Iris.csv')\n",
    "data.head(2)"
   ]
  },
  {
   "cell_type": "code",
   "execution_count": 10,
   "metadata": {
    "_uuid": "57da11f08a5b6ee632bb33be729ebad21ceb9271"
   },
   "outputs": [
    {
     "data": {
      "text/html": [
       "<div>\n",
       "<style scoped>\n",
       "    .dataframe tbody tr th:only-of-type {\n",
       "        vertical-align: middle;\n",
       "    }\n",
       "\n",
       "    .dataframe tbody tr th {\n",
       "        vertical-align: top;\n",
       "    }\n",
       "\n",
       "    .dataframe thead th {\n",
       "        text-align: right;\n",
       "    }\n",
       "</style>\n",
       "<table border=\"1\" class=\"dataframe\">\n",
       "  <thead>\n",
       "    <tr style=\"text-align: right;\">\n",
       "      <th></th>\n",
       "      <th>count</th>\n",
       "      <th>mean</th>\n",
       "      <th>std</th>\n",
       "      <th>min</th>\n",
       "      <th>25%</th>\n",
       "      <th>50%</th>\n",
       "      <th>75%</th>\n",
       "      <th>max</th>\n",
       "    </tr>\n",
       "  </thead>\n",
       "  <tbody>\n",
       "    <tr>\n",
       "      <td>Id</td>\n",
       "      <td>150.0</td>\n",
       "      <td>75.500000</td>\n",
       "      <td>43.445368</td>\n",
       "      <td>1.0</td>\n",
       "      <td>38.25</td>\n",
       "      <td>75.50</td>\n",
       "      <td>112.75</td>\n",
       "      <td>150.0</td>\n",
       "    </tr>\n",
       "    <tr>\n",
       "      <td>SepalLengthCm</td>\n",
       "      <td>150.0</td>\n",
       "      <td>5.843333</td>\n",
       "      <td>0.828066</td>\n",
       "      <td>4.3</td>\n",
       "      <td>5.10</td>\n",
       "      <td>5.80</td>\n",
       "      <td>6.40</td>\n",
       "      <td>7.9</td>\n",
       "    </tr>\n",
       "    <tr>\n",
       "      <td>SepalWidthCm</td>\n",
       "      <td>150.0</td>\n",
       "      <td>3.054000</td>\n",
       "      <td>0.433594</td>\n",
       "      <td>2.0</td>\n",
       "      <td>2.80</td>\n",
       "      <td>3.00</td>\n",
       "      <td>3.30</td>\n",
       "      <td>4.4</td>\n",
       "    </tr>\n",
       "    <tr>\n",
       "      <td>PetalLengthCm</td>\n",
       "      <td>150.0</td>\n",
       "      <td>3.758667</td>\n",
       "      <td>1.764420</td>\n",
       "      <td>1.0</td>\n",
       "      <td>1.60</td>\n",
       "      <td>4.35</td>\n",
       "      <td>5.10</td>\n",
       "      <td>6.9</td>\n",
       "    </tr>\n",
       "    <tr>\n",
       "      <td>PetalWidthCm</td>\n",
       "      <td>150.0</td>\n",
       "      <td>1.198667</td>\n",
       "      <td>0.763161</td>\n",
       "      <td>0.1</td>\n",
       "      <td>0.30</td>\n",
       "      <td>1.30</td>\n",
       "      <td>1.80</td>\n",
       "      <td>2.5</td>\n",
       "    </tr>\n",
       "  </tbody>\n",
       "</table>\n",
       "</div>"
      ],
      "text/plain": [
       "               count       mean        std  min    25%    50%     75%    max\n",
       "Id             150.0  75.500000  43.445368  1.0  38.25  75.50  112.75  150.0\n",
       "SepalLengthCm  150.0   5.843333   0.828066  4.3   5.10   5.80    6.40    7.9\n",
       "SepalWidthCm   150.0   3.054000   0.433594  2.0   2.80   3.00    3.30    4.4\n",
       "PetalLengthCm  150.0   3.758667   1.764420  1.0   1.60   4.35    5.10    6.9\n",
       "PetalWidthCm   150.0   1.198667   0.763161  0.1   0.30   1.30    1.80    2.5"
      ]
     },
     "execution_count": 10,
     "metadata": {},
     "output_type": "execute_result"
    }
   ],
   "source": [
    "# 3 Summarization of dataset: Descriptive Stats\n",
    "data.describe().T"
   ]
  },
  {
   "cell_type": "code",
   "execution_count": 11,
   "metadata": {
    "_uuid": "18671bfc0d28c28cb61dff119c2a0047c6c03af0"
   },
   "outputs": [
    {
     "data": {
      "text/plain": [
       "False"
      ]
     },
     "execution_count": 11,
     "metadata": {},
     "output_type": "execute_result"
    }
   ],
   "source": [
    "# checking if any null values \n",
    "data.isnull().values.any()"
   ]
  },
  {
   "cell_type": "code",
   "execution_count": 12,
   "metadata": {
    "_uuid": "9118807285d2a5ddb834dbd488d12ab2a07b7da3"
   },
   "outputs": [
    {
     "data": {
      "text/plain": [
       "array(['Iris-setosa', 'Iris-versicolor', 'Iris-virginica'], dtype=object)"
      ]
     },
     "execution_count": 12,
     "metadata": {},
     "output_type": "execute_result"
    }
   ],
   "source": [
    "# How manu classes of target col 'class'\n",
    "data['Species'].unique()"
   ]
  },
  {
   "cell_type": "code",
   "execution_count": 13,
   "metadata": {
    "_uuid": "9bbf0992cf1761072f28d9516491ba1be04b02c8"
   },
   "outputs": [
    {
     "data": {
      "text/plain": [
       "Species\n",
       "Iris-setosa        50\n",
       "Iris-versicolor    50\n",
       "Iris-virginica     50\n",
       "dtype: int64"
      ]
     },
     "execution_count": 13,
     "metadata": {},
     "output_type": "execute_result"
    }
   ],
   "source": [
    "data.groupby('Species').size()"
   ]
  },
  {
   "cell_type": "code",
   "execution_count": 14,
   "metadata": {
    "_uuid": "bededd7eef54223a9ddb79e4a400a6ac2df963b7"
   },
   "outputs": [],
   "source": [
    "# Data preprocessing\n",
    "\n",
    "def pre_processing(data):\n",
    "    X = data[['SepalLengthCm', 'SepalWidthCm', 'PetalLengthCm', 'PetalWidthCm']]\n",
    "    y = data['Species']\n",
    "\n",
    "    xtrain,xtest, ytrain, ytest = train_test_split(X,y,test_size=0.33)\n",
    "    \n",
    "    return  xtrain,xtest, ytrain, ytest\n",
    "    "
   ]
  },
  {
   "cell_type": "code",
   "execution_count": 15,
   "metadata": {
    "_uuid": "7fb4e66c946240c02c215e915facaadd3e01d2fe"
   },
   "outputs": [
    {
     "data": {
      "image/png": "[encoded data removed]",
      "text/plain": [
       "<Figure size 432x288 with 4 Axes>"
      ]
     },
     "metadata": {
      "needs_background": "light"
     },
     "output_type": "display_data"
    }
   ],
   "source": [
    "# 4 Data visualization\n",
    "\n",
    "col_names = ['SepalLengthCm', 'SepalWidthCm', 'PetalLengthCm', 'PetalWidthCm', 'Species']\n",
    "\n",
    "data[col_names].plot(kind='box', subplots=True, layout=(2,2), sharex=False, sharey=False)\n",
    "\n",
    "plt.show()"
   ]
  },
  {
   "cell_type": "code",
   "execution_count": 16,
   "metadata": {
    "_uuid": "05ef2c053ee55d2bb93b298c5764c53ad7d82774"
   },
   "outputs": [
    {
     "data": {
      "text/plain": [
       "array([[<matplotlib.axes._subplots.AxesSubplot object at 0x7f9422926eb8>,\n",
       "        <matplotlib.axes._subplots.AxesSubplot object at 0x7f9422222550>],\n",
       "       [<matplotlib.axes._subplots.AxesSubplot object at 0x7f94221d3ac8>,\n",
       "        <matplotlib.axes._subplots.AxesSubplot object at 0x7f9422191080>]],\n",
       "      dtype=object)"
      ]
     },
     "execution_count": 16,
     "metadata": {},
     "output_type": "execute_result"
    },
    {
     "data": {
      "image/png": "[encoded data removed]",
      "text/plain": [
       "<Figure size 432x288 with 4 Axes>"
      ]
     },
     "metadata": {
      "needs_background": "light"
     },
     "output_type": "display_data"
    }
   ],
   "source": [
    "data[col_names].hist()"
   ]
  },
  {
   "cell_type": "code",
   "execution_count": 17,
   "metadata": {
    "_kg_hide-output": true,
    "_uuid": "722a795b7bed80a99c72c1583f9fe2c7aea7777a"
   },
   "outputs": [
    {
     "data": {
      "text/plain": [
       "array([[<matplotlib.axes._subplots.AxesSubplot object at 0x7f94220b3518>,\n",
       "        <matplotlib.axes._subplots.AxesSubplot object at 0x7f942204fc50>,\n",
       "        <matplotlib.axes._subplots.AxesSubplot object at 0x7f9422006240>,\n",
       "        <matplotlib.axes._subplots.AxesSubplot object at 0x7f94220377f0>],\n",
       "       [<matplotlib.axes._subplots.AxesSubplot object at 0x7f9421febda0>,\n",
       "        <matplotlib.axes._subplots.AxesSubplot object at 0x7f9421fa7390>,\n",
       "        <matplotlib.axes._subplots.AxesSubplot object at 0x7f9421f56940>,\n",
       "        <matplotlib.axes._subplots.AxesSubplot object at 0x7f9421f08f28>],\n",
       "       [<matplotlib.axes._subplots.AxesSubplot object at 0x7f9421f08f60>,\n",
       "        <matplotlib.axes._subplots.AxesSubplot object at 0x7f9421ef7a90>,\n",
       "        <matplotlib.axes._subplots.AxesSubplot object at 0x7f9421eb6080>,\n",
       "        <matplotlib.axes._subplots.AxesSubplot object at 0x7f9421e67630>],\n",
       "       [<matplotlib.axes._subplots.AxesSubplot object at 0x7f9421e18be0>,\n",
       "        <matplotlib.axes._subplots.AxesSubplot object at 0x7f9421dd81d0>,\n",
       "        <matplotlib.axes._subplots.AxesSubplot object at 0x7f9421d87780>,\n",
       "        <matplotlib.axes._subplots.AxesSubplot object at 0x7f9421db9d30>]],\n",
       "      dtype=object)"
      ]
     },
     "execution_count": 17,
     "metadata": {},
     "output_type": "execute_result"
    },
    {
     "data": {
      "image/png": "[encoded data removed]",
      "text/plain": [
       "<Figure size 432x288 with 16 Axes>"
      ]
     },
     "metadata": {
      "needs_background": "light"
     },
     "output_type": "display_data"
    }
   ],
   "source": [
    "scatter_matrix(data[col_names])"
   ]
  },
  {
   "cell_type": "code",
   "execution_count": 18,
   "metadata": {
    "_uuid": "379252d6a7029980cf2574c4545de635b52eafd9"
   },
   "outputs": [],
   "source": [
    "# 4 Data preprocessing\n",
    "xtrain,xtest, ytrain, ytest = pre_processing(data)"
   ]
  },
  {
   "cell_type": "code",
   "execution_count": 19,
   "metadata": {
    "_uuid": "6f0f0df1aab38b2883c03a42c9e5ace094a592eb"
   },
   "outputs": [
    {
     "name": "stderr",
     "output_type": "stream",
     "text": [
      "/srv/conda/envs/notebook/lib/python3.7/site-packages/sklearn/linear_model/logistic.py:432: FutureWarning: Default solver will be changed to 'lbfgs' in 0.22. Specify a solver to silence this warning.\n",
      "  FutureWarning)\n",
      "/srv/conda/envs/notebook/lib/python3.7/site-packages/sklearn/linear_model/logistic.py:469: FutureWarning: Default multi_class will be changed to 'auto' in 0.22. Specify the multi_class option to silence this warning.\n",
      "  \"this warning.\", FutureWarning)\n",
      "/srv/conda/envs/notebook/lib/python3.7/site-packages/sklearn/linear_model/logistic.py:432: FutureWarning: Default solver will be changed to 'lbfgs' in 0.22. Specify a solver to silence this warning.\n",
      "  FutureWarning)\n",
      "/srv/conda/envs/notebook/lib/python3.7/site-packages/sklearn/linear_model/logistic.py:469: FutureWarning: Default multi_class will be changed to 'auto' in 0.22. Specify the multi_class option to silence this warning.\n",
      "  \"this warning.\", FutureWarning)\n",
      "/srv/conda/envs/notebook/lib/python3.7/site-packages/sklearn/linear_model/logistic.py:432: FutureWarning: Default solver will be changed to 'lbfgs' in 0.22. Specify a solver to silence this warning.\n",
      "  FutureWarning)\n",
      "/srv/conda/envs/notebook/lib/python3.7/site-packages/sklearn/linear_model/logistic.py:469: FutureWarning: Default multi_class will be changed to 'auto' in 0.22. Specify the multi_class option to silence this warning.\n",
      "  \"this warning.\", FutureWarning)\n",
      "/srv/conda/envs/notebook/lib/python3.7/site-packages/sklearn/svm/base.py:193: FutureWarning: The default value of gamma will change from 'auto' to 'scale' in version 0.22 to account better for unscaled features. Set gamma explicitly to 'auto' or 'scale' to avoid this warning.\n",
      "  \"avoid this warning.\", FutureWarning)\n",
      "/srv/conda/envs/notebook/lib/python3.7/site-packages/sklearn/svm/base.py:193: FutureWarning: The default value of gamma will change from 'auto' to 'scale' in version 0.22 to account better for unscaled features. Set gamma explicitly to 'auto' or 'scale' to avoid this warning.\n",
      "  \"avoid this warning.\", FutureWarning)\n",
      "/srv/conda/envs/notebook/lib/python3.7/site-packages/sklearn/svm/base.py:193: FutureWarning: The default value of gamma will change from 'auto' to 'scale' in version 0.22 to account better for unscaled features. Set gamma explicitly to 'auto' or 'scale' to avoid this warning.\n",
      "  \"avoid this warning.\", FutureWarning)\n"
     ]
    },
    {
     "name": "stdout",
     "output_type": "stream",
     "text": [
      "LR 0.9399509803921569\n",
      "CART 0.9399509803921569\n",
      "KNN 0.9693627450980392\n",
      "NB 0.9497549019607843\n",
      "LDA 0.9699754901960785\n",
      "SVM 0.9693627450980392\n",
      "[array([0.94117647, 0.94117647, 0.9375    ]), array([0.94117647, 0.94117647, 0.9375    ]), array([0.97058824, 1.        , 0.9375    ]), array([0.97058824, 0.94117647, 0.9375    ]), array([0.97058824, 0.97058824, 0.96875   ]), array([0.97058824, 1.        , 0.9375    ])]\n"
     ]
    },
    {
     "data": {
      "image/png": "[encoded data removed]",
      "text/plain": [
       "<Figure size 432x288 with 1 Axes>"
      ]
     },
     "metadata": {
      "needs_background": "light"
     },
     "output_type": "display_data"
    }
   ],
   "source": [
    "# Building Models for iris flower classification\n",
    "\n",
    "np.random.seed(1000)\n",
    "# making a list of ml classification models\n",
    "models = []\n",
    "\n",
    "def classification_Models(xtrain,xtest, ytrain, ytest ):\n",
    "    \n",
    "\n",
    "    \n",
    "    models.append( ('LR',  LogisticRegression()) )\n",
    "    models.append( ('CART',DecisionTreeClassifier()) )\n",
    "    models.append( ('KNN', KNeighborsClassifier()) )\n",
    "    models.append( ('NB',  GaussianNB()) )\n",
    "    models.append( ('LDA',  LinearDiscriminantAnalysis()) )\n",
    "    models.append( ('SVM',  SVC()) )\n",
    "\n",
    "    modeloutcomes = []\n",
    "    modelnames = []\n",
    "    for name,model in models:\n",
    "        v_results = cross_val_score(model, xtrain, ytrain, cv = 3, \n",
    "                                     scoring='accuracy', n_jobs = -1, verbose = 0)\n",
    "        print(name,v_results.mean())\n",
    "        modeloutcomes.append(v_results)\n",
    "        modelnames.append(name)\n",
    "        \n",
    "    print(modeloutcomes)\n",
    "    fig = plt.figure()\n",
    "    ax = fig.add_subplot(111)\n",
    "    ax.set_xticklabels(modelnames)\n",
    "    plt.boxplot(modeloutcomes)\n",
    "        \n",
    "classification_Models(xtrain,xtest, ytrain, ytest)"
   ]
  },
  {
   "cell_type": "code",
   "execution_count": 20,
   "metadata": {
    "_uuid": "9c24b6637d0d3e522f662d160b1932d03670c8fa"
   },
   "outputs": [
    {
     "name": "stdout",
     "output_type": "stream",
     "text": [
      "\n",
      "****************************LR\n",
      "The accuracy: 0.96\n",
      "The Classification Report:\n",
      "                  precision    recall  f1-score   support\n",
      "\n",
      "    Iris-setosa       1.00      1.00      1.00        18\n",
      "Iris-versicolor       0.88      1.00      0.94        15\n",
      " Iris-virginica       1.00      0.88      0.94        17\n",
      "\n",
      "       accuracy                           0.96        50\n",
      "      macro avg       0.96      0.96      0.96        50\n",
      "   weighted avg       0.96      0.96      0.96        50\n",
      "\n",
      "The Confusion Matrix:\n",
      " [[18  0  0]\n",
      " [ 0 15  0]\n",
      " [ 0  2 15]]\n",
      "\n",
      "****************************CART\n",
      "The accuracy: 0.88\n",
      "The Classification Report:\n",
      "                  precision    recall  f1-score   support\n",
      "\n",
      "    Iris-setosa       1.00      1.00      1.00        18\n",
      "Iris-versicolor       0.80      0.80      0.80        15\n",
      " Iris-virginica       0.82      0.82      0.82        17\n",
      "\n",
      "       accuracy                           0.88        50\n",
      "      macro avg       0.87      0.87      0.87        50\n",
      "   weighted avg       0.88      0.88      0.88        50\n",
      "\n",
      "The Confusion Matrix:\n",
      " [[18  0  0]\n",
      " [ 0 12  3]\n",
      " [ 0  3 14]]\n",
      "\n",
      "****************************KNN\n",
      "The accuracy: 0.96\n",
      "The Classification Report:\n",
      "                  precision    recall  f1-score   support\n",
      "\n",
      "    Iris-setosa       1.00      1.00      1.00        18\n",
      "Iris-versicolor       0.88      1.00      0.94        15\n",
      " Iris-virginica       1.00      0.88      0.94        17\n",
      "\n",
      "       accuracy                           0.96        50\n",
      "      macro avg       0.96      0.96      0.96        50\n",
      "   weighted avg       0.96      0.96      0.96        50\n",
      "\n",
      "The Confusion Matrix:\n",
      " [[18  0  0]\n",
      " [ 0 15  0]\n",
      " [ 0  2 15]]\n",
      "\n",
      "****************************NB\n",
      "The accuracy: 0.98\n",
      "The Classification Report:\n",
      "                  precision    recall  f1-score   support\n",
      "\n",
      "    Iris-setosa       1.00      1.00      1.00        18\n",
      "Iris-versicolor       0.94      1.00      0.97        15\n",
      " Iris-virginica       1.00      0.94      0.97        17\n",
      "\n",
      "       accuracy                           0.98        50\n",
      "      macro avg       0.98      0.98      0.98        50\n",
      "   weighted avg       0.98      0.98      0.98        50\n",
      "\n",
      "The Confusion Matrix:\n",
      " [[18  0  0]\n",
      " [ 0 15  0]\n",
      " [ 0  1 16]]\n",
      "\n",
      "****************************LDA\n",
      "The accuracy: 0.98\n",
      "The Classification Report:\n",
      "                  precision    recall  f1-score   support\n",
      "\n",
      "    Iris-setosa       1.00      1.00      1.00        18\n",
      "Iris-versicolor       0.94      1.00      0.97        15\n",
      " Iris-virginica       1.00      0.94      0.97        17\n",
      "\n",
      "       accuracy                           0.98        50\n",
      "      macro avg       0.98      0.98      0.98        50\n",
      "   weighted avg       0.98      0.98      0.98        50\n",
      "\n",
      "The Confusion Matrix:\n",
      " [[18  0  0]\n",
      " [ 0 15  0]\n",
      " [ 0  1 16]]\n",
      "\n",
      "****************************SVM\n",
      "The accuracy: 1.0\n",
      "The Classification Report:\n",
      "                  precision    recall  f1-score   support\n",
      "\n",
      "    Iris-setosa       1.00      1.00      1.00        18\n",
      "Iris-versicolor       1.00      1.00      1.00        15\n",
      " Iris-virginica       1.00      1.00      1.00        17\n",
      "\n",
      "       accuracy                           1.00        50\n",
      "      macro avg       1.00      1.00      1.00        50\n",
      "   weighted avg       1.00      1.00      1.00        50\n",
      "\n",
      "The Confusion Matrix:\n",
      " [[18  0  0]\n",
      " [ 0 15  0]\n",
      " [ 0  0 17]]\n"
     ]
    },
    {
     "name": "stderr",
     "output_type": "stream",
     "text": [
      "/srv/conda/envs/notebook/lib/python3.7/site-packages/sklearn/linear_model/logistic.py:432: FutureWarning: Default solver will be changed to 'lbfgs' in 0.22. Specify a solver to silence this warning.\n",
      "  FutureWarning)\n",
      "/srv/conda/envs/notebook/lib/python3.7/site-packages/sklearn/linear_model/logistic.py:469: FutureWarning: Default multi_class will be changed to 'auto' in 0.22. Specify the multi_class option to silence this warning.\n",
      "  \"this warning.\", FutureWarning)\n",
      "/srv/conda/envs/notebook/lib/python3.7/site-packages/sklearn/svm/base.py:193: FutureWarning: The default value of gamma will change from 'auto' to 'scale' in version 0.22 to account better for unscaled features. Set gamma explicitly to 'auto' or 'scale' to avoid this warning.\n",
      "  \"avoid this warning.\", FutureWarning)\n"
     ]
    }
   ],
   "source": [
    "# Evaluating and predicting models\n",
    "\n",
    "\n",
    "for name,model in models:\n",
    "    trainedmodel = model.fit(xtrain,ytrain)\n",
    "    \n",
    "    # prediction\n",
    "    ypredict = trainedmodel.predict(xtest)\n",
    "    \n",
    "    acc = accuracy_score(ytest,ypredict)\n",
    "    classreport = classification_report(ytest,ypredict)\n",
    "    confMat = confusion_matrix(ytest,ypredict)\n",
    "    \n",
    "    print('\\n****************************'+name)\n",
    "    print('The accuracy: {}'.format(acc))\n",
    "    print('The Classification Report:\\n {}'.format(classreport))\n",
    "    print('The Confusion Matrix:\\n {}'.format(confMat))\n",
    "    \n",
    "    \n",
    "    # save models\n",
    "    import pickle as pk\n",
    "    \n",
    "    with open('model_'+name+'.pickle','wb') as f:\n",
    "        pk.dump(trainedmodel,f)\n",
    "    "
   ]
  },
  {
   "cell_type": "markdown",
   "metadata": {
    "_uuid": "fb7f1e8a729a2a8b7abaafb9444285f09cd05886"
   },
   "source": [
    "**From above it seems svm is winner with some leading results.**"
   ]
  },
  {
   "cell_type": "code",
   "execution_count": null,
   "metadata": {},
   "outputs": [],
   "source": []
  }
 ],
 "metadata": {
  "kernelspec": {
   "display_name": "Python 3",
   "language": "python",
   "name": "python3"
  },
  "language_info": {
   "codemirror_mode": {
    "name": "ipython",
    "version": 3
   },
   "file_extension": ".py",
   "mimetype": "text/x-python",
   "name": "python",
   "nbconvert_exporter": "python",
   "pygments_lexer": "ipython3",
   "version": "3.7.3"
  }
 },
 "nbformat": 4,
 "nbformat_minor": 1
}
