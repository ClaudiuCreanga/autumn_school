{
 "cells": [
  {
   "cell_type": "markdown",
   "metadata": {},
   "source": [
    "# README\n",
    "\n",
    "This repository was created in order to provide didactical material for the **Introduction to Machine Learning for biomedical data analysis in Python** course, taught by Dr. Adriano Barbosa-Silva in various Data Science for Health courses.\n",
    "\n",
    "This repository uses resources collected from diverse data science repositories. Credits should be given to the authors listed below, from whom I obtained the original material, for free at [**Kaggle**](https://www.kaggle.com/), for teaching purposes. They deserve full credits for their great work!\n",
    "\n",
    "1) Comparing Classification Models: sklearn iris data, [**Hammad Zahid Ali**](https://www.kaggle.com/hammadzahidali/comparing-classification-models-sklearn-iris-data/data), Accessed Sep. 2019.\n",
    "\n",
    "* Appendix A: modified from https://scikit-learn.org/stable/auto_examples/model_selection/plot_cv_indices.html<BR>\n",
    "Copyright (c) 2007–2019 The scikit-learn developers. All rights reserved.<P>\n",
    "\n",
    "* Appendix B: modified from https://scikit-learn.org/stable/auto_examples/model_selection/plot_roc.html<br>\n",
    "Copyright (c) 2007–2019 The scikit-learn developers.<P>\n",
    "\n",
    "* Appendix C: modified from https://scikit-learn.org/stable/auto_examples/preprocessing/plot_all_scaling.html<br>\n",
    "Copyright (c) 2007–2019 The scikit-learn developers.<P>\n",
    "\n",
    "* Appendix D: modified from https://scikit-learn.org/stable/modules/ensemble.html#voting-classifier<BR>\n",
    "Copyright (c) 2007–2019 The scikit-learn developers.<P>\n",
    "\n",
    "* Appendix E: modified from https://scikit-learn.org/stable/auto_examples/svm/plot_iris_svc.html<BR>\n",
    "Copyright (c) 2007–2019 The scikit-learn developers.<P>\n",
    "\n",
    "* Appendix F: modified from https://scikit-learn.org/stable/modules/tree.html#tree<BR>\n",
    "Copyright (c) 2007–2019 The scikit-learn developers.<P>\n",
    "\n",
    "* Appendix G: modified from https://scikit-learn.org/stable/auto_examples/model_selection/plot_confusion_matrix.html<BR>\n",
    "Copyright (c) 2007–2019 The scikit-learn developers.<P>\n",
    "    \n",
    "\n",
    "    \n",
    "\n",
    "\n",
    "\n",
    "2) Breast Cancer Analysis and Prediction, [**Vincent Lugat**](https://www.kaggle.com/vincentlugat/breast-cancer-analysis-and-prediction), Accessed Sep. 2019.\n",
    "\n",
    "3) Heart diseases predictive model (beginners), [**Rishabh Pande**](https://www.kaggle.com/rishpande/heart-diseases-predictive-model-beginners), Accessed Sep. 2019.\n",
    "\n",
    "4) PIMA Indians Diabetes, [**Rishabh Pande**](https://www.kaggle.com/rishpande/pima-indians-diabetes-beginner), Accessed Sep. 2019.\n",
    "\n"
   ]
  },
  {
   "cell_type": "code",
   "execution_count": null,
   "metadata": {},
   "outputs": [],
   "source": [
    "!pip install -U matplotlib\n",
    "!pip install -U sklearn\n",
    "!pip install -U pandas\n",
    "!pip install -U seaborn\n",
    "!pip install -U pprint\n",
    "!pip install -U numpy\n",
    "!pip install -U pandas\n",
    "!pip install -U plotly\n",
    "!pip install -U chart_studio\n",
    "!pip install -U mpld3\n",
    "!pip install -U pdpbox"
   ]
  }
 ],
 "metadata": {
  "kernelspec": {
   "display_name": "Python 3",
   "language": "python",
   "name": "python3"
  },
  "language_info": {
   "codemirror_mode": {
    "name": "ipython",
    "version": 3
   },
   "file_extension": ".py",
   "mimetype": "text/x-python",
   "name": "python",
   "nbconvert_exporter": "python",
   "pygments_lexer": "ipython3",
   "version": "3.6.9"
  }
 },
 "nbformat": 4,
 "nbformat_minor": 2
}
