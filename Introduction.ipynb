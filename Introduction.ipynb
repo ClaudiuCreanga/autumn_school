{
 "cells": [
  {
   "cell_type": "markdown",
   "metadata": {},
   "source": [
    "# README\n",
    "\n",
    "This repository was created in order to provide didactical material for the **Introduction to Machine Learning for biomedical data analysis in Python** course, taught by Dr. Adriano Barbosa-Silva in various Data Science for Health courses.\n",
    "\n",
    "This repository uses resources collected from diverse sources in the internet. Credits should be given for the authors listed below, from whom I obtained the original material for free code at Kaggle for teaching purposes. They deserve full credits for their great work!\n",
    "\n",
    "1) Comparing Classification Models: sklearn iris data, [**Hammad Zahid Ali**](https://www.kaggle.com/hammadzahidali/comparing-classification-models-sklearn-iris-data/data), Accessed Sep. 2019.\n",
    "\n",
    "2) Breast Cancer Analysis and Prediction, [**Vincent Lugat**](https://www.kaggle.com/vincentlugat/breast-cancer-analysis-and-prediction), Accessed Sep. 2019.\n",
    "\n",
    "3) Heart diseases predictive model (beginners), [**Rishabh Pande**](https://www.kaggle.com/rishpande/heart-diseases-predictive-model-beginners), Accessed Sep. 2019.\n",
    "\n",
    "4) PIMA Indians Diabetes, [**Rishabh Pande**](https://www.kaggle.com/rishpande/pima-indians-diabetes-beginner), Accessed Sep. 2019.\n",
    "\n"
   ]
  },
  {
   "cell_type": "code",
   "execution_count": null,
   "metadata": {},
   "outputs": [],
   "source": []
  }
 ],
 "metadata": {
  "kernelspec": {
   "display_name": "Python 3",
   "language": "python",
   "name": "python3"
  },
  "language_info": {
   "codemirror_mode": {
    "name": "ipython",
    "version": 3
   },
   "file_extension": ".py",
   "mimetype": "text/x-python",
   "name": "python",
   "nbconvert_exporter": "python",
   "pygments_lexer": "ipython3",
   "version": "3.7.3"
  }
 },
 "nbformat": 4,
 "nbformat_minor": 2
}
